{
 "cells": [
  {
   "cell_type": "markdown",
   "id": "9e37a066",
   "metadata": {},
   "source": [
    "## Analyze and visualize sentiment patterns in social media data to understand public opinion and attitudes towards specific topics or brands."
   ]
  },
  {
   "cell_type": "markdown",
   "id": "ba2cec27",
   "metadata": {},
   "source": [
    "# Import required libraries"
   ]
  },
  {
   "cell_type": "code",
   "execution_count": 1,
   "id": "39a4462e",
   "metadata": {},
   "outputs": [],
   "source": [
    "import pandas as pd\n",
    "import numpy as np\n",
    "import matplotlib.pyplot as plt\n",
    "import seaborn as sns\n",
    "import re\n",
    "from nltk.corpus import stopwords\n",
    "from nltk.stem.porter import PorterStemmer\n",
    "from sklearn.feature_extraction.text import TfidfVectorizer\n",
    "from sklearn.model_selection import train_test_split\n",
    "from sklearn.linear_model import LogisticRegression\n",
    "from sklearn.metrics import accuracy_score"
   ]
  },
  {
   "cell_type": "code",
   "execution_count": 2,
   "id": "f80cddce",
   "metadata": {},
   "outputs": [
    {
     "name": "stderr",
     "output_type": "stream",
     "text": [
      "[nltk_data] Downloading package stopwords to\n",
      "[nltk_data]     C:\\Users\\Administrator\\AppData\\Roaming\\nltk_data...\n",
      "[nltk_data]   Package stopwords is already up-to-date!\n"
     ]
    },
    {
     "data": {
      "text/plain": [
       "True"
      ]
     },
     "execution_count": 2,
     "metadata": {},
     "output_type": "execute_result"
    }
   ],
   "source": [
    "import nltk\n",
    "nltk.download('stopwords')"
   ]
  },
  {
   "cell_type": "code",
   "execution_count": 3,
   "id": "873c7e1e",
   "metadata": {},
   "outputs": [
    {
     "name": "stdout",
     "output_type": "stream",
     "text": [
      "['i', 'me', 'my', 'myself', 'we', 'our', 'ours', 'ourselves', 'you', \"you're\", \"you've\", \"you'll\", \"you'd\", 'your', 'yours', 'yourself', 'yourselves', 'he', 'him', 'his', 'himself', 'she', \"she's\", 'her', 'hers', 'herself', 'it', \"it's\", 'its', 'itself', 'they', 'them', 'their', 'theirs', 'themselves', 'what', 'which', 'who', 'whom', 'this', 'that', \"that'll\", 'these', 'those', 'am', 'is', 'are', 'was', 'were', 'be', 'been', 'being', 'have', 'has', 'had', 'having', 'do', 'does', 'did', 'doing', 'a', 'an', 'the', 'and', 'but', 'if', 'or', 'because', 'as', 'until', 'while', 'of', 'at', 'by', 'for', 'with', 'about', 'against', 'between', 'into', 'through', 'during', 'before', 'after', 'above', 'below', 'to', 'from', 'up', 'down', 'in', 'out', 'on', 'off', 'over', 'under', 'again', 'further', 'then', 'once', 'here', 'there', 'when', 'where', 'why', 'how', 'all', 'any', 'both', 'each', 'few', 'more', 'most', 'other', 'some', 'such', 'no', 'nor', 'not', 'only', 'own', 'same', 'so', 'than', 'too', 'very', 's', 't', 'can', 'will', 'just', 'don', \"don't\", 'should', \"should've\", 'now', 'd', 'll', 'm', 'o', 're', 've', 'y', 'ain', 'aren', \"aren't\", 'couldn', \"couldn't\", 'didn', \"didn't\", 'doesn', \"doesn't\", 'hadn', \"hadn't\", 'hasn', \"hasn't\", 'haven', \"haven't\", 'isn', \"isn't\", 'ma', 'mightn', \"mightn't\", 'mustn', \"mustn't\", 'needn', \"needn't\", 'shan', \"shan't\", 'shouldn', \"shouldn't\", 'wasn', \"wasn't\", 'weren', \"weren't\", 'won', \"won't\", 'wouldn', \"wouldn't\"]\n"
     ]
    }
   ],
   "source": [
    "# Printing the stopwords in english\n",
    "print(stopwords.words('english'))"
   ]
  },
  {
   "cell_type": "code",
   "execution_count": null,
   "id": "1d6cae2d",
   "metadata": {},
   "outputs": [],
   "source": []
  },
  {
   "cell_type": "code",
   "execution_count": 4,
   "id": "3f56ae2a",
   "metadata": {},
   "outputs": [
    {
     "data": {
      "text/html": [
       "<div>\n",
       "<style scoped>\n",
       "    .dataframe tbody tr th:only-of-type {\n",
       "        vertical-align: middle;\n",
       "    }\n",
       "\n",
       "    .dataframe tbody tr th {\n",
       "        vertical-align: top;\n",
       "    }\n",
       "\n",
       "    .dataframe thead th {\n",
       "        text-align: right;\n",
       "    }\n",
       "</style>\n",
       "<table border=\"1\" class=\"dataframe\">\n",
       "  <thead>\n",
       "    <tr style=\"text-align: right;\">\n",
       "      <th></th>\n",
       "      <th>Tweet_id</th>\n",
       "      <th>Subject</th>\n",
       "      <th>Reaction</th>\n",
       "      <th>Tweet</th>\n",
       "    </tr>\n",
       "  </thead>\n",
       "  <tbody>\n",
       "    <tr>\n",
       "      <th>0</th>\n",
       "      <td>2401</td>\n",
       "      <td>Borderlands</td>\n",
       "      <td>Positive</td>\n",
       "      <td>im getting on borderlands and i will murder yo...</td>\n",
       "    </tr>\n",
       "    <tr>\n",
       "      <th>1</th>\n",
       "      <td>2401</td>\n",
       "      <td>Borderlands</td>\n",
       "      <td>Positive</td>\n",
       "      <td>I am coming to the borders and I will kill you...</td>\n",
       "    </tr>\n",
       "    <tr>\n",
       "      <th>2</th>\n",
       "      <td>2401</td>\n",
       "      <td>Borderlands</td>\n",
       "      <td>Positive</td>\n",
       "      <td>im getting on borderlands and i will kill you ...</td>\n",
       "    </tr>\n",
       "    <tr>\n",
       "      <th>3</th>\n",
       "      <td>2401</td>\n",
       "      <td>Borderlands</td>\n",
       "      <td>Positive</td>\n",
       "      <td>im coming on borderlands and i will murder you...</td>\n",
       "    </tr>\n",
       "    <tr>\n",
       "      <th>4</th>\n",
       "      <td>2401</td>\n",
       "      <td>Borderlands</td>\n",
       "      <td>Positive</td>\n",
       "      <td>im getting on borderlands 2 and i will murder ...</td>\n",
       "    </tr>\n",
       "  </tbody>\n",
       "</table>\n",
       "</div>"
      ],
      "text/plain": [
       "   Tweet_id     Subject   Reaction  \\\n",
       "0      2401  Borderlands  Positive   \n",
       "1      2401  Borderlands  Positive   \n",
       "2      2401  Borderlands  Positive   \n",
       "3      2401  Borderlands  Positive   \n",
       "4      2401  Borderlands  Positive   \n",
       "\n",
       "                                               Tweet  \n",
       "0  im getting on borderlands and i will murder yo...  \n",
       "1  I am coming to the borders and I will kill you...  \n",
       "2  im getting on borderlands and i will kill you ...  \n",
       "3  im coming on borderlands and i will murder you...  \n",
       "4  im getting on borderlands 2 and i will murder ...  "
      ]
     },
     "execution_count": 4,
     "metadata": {},
     "output_type": "execute_result"
    }
   ],
   "source": [
    "Twitter_data = pd.read_csv('twitter_training.csv')\n",
    "Twitter_data.head()    # print the first 5 rows of the data"
   ]
  },
  {
   "cell_type": "code",
   "execution_count": 5,
   "id": "9ae14516",
   "metadata": {},
   "outputs": [
    {
     "data": {
      "text/html": [
       "<div>\n",
       "<style scoped>\n",
       "    .dataframe tbody tr th:only-of-type {\n",
       "        vertical-align: middle;\n",
       "    }\n",
       "\n",
       "    .dataframe tbody tr th {\n",
       "        vertical-align: top;\n",
       "    }\n",
       "\n",
       "    .dataframe thead th {\n",
       "        text-align: right;\n",
       "    }\n",
       "</style>\n",
       "<table border=\"1\" class=\"dataframe\">\n",
       "  <thead>\n",
       "    <tr style=\"text-align: right;\">\n",
       "      <th></th>\n",
       "      <th>Tweet_id</th>\n",
       "      <th>Subject</th>\n",
       "      <th>Reaction</th>\n",
       "      <th>Tweet</th>\n",
       "    </tr>\n",
       "  </thead>\n",
       "  <tbody>\n",
       "    <tr>\n",
       "      <th>74677</th>\n",
       "      <td>9200</td>\n",
       "      <td>Nvidia</td>\n",
       "      <td>Positive</td>\n",
       "      <td>Just realized that the Windows partition of my...</td>\n",
       "    </tr>\n",
       "    <tr>\n",
       "      <th>74678</th>\n",
       "      <td>9200</td>\n",
       "      <td>Nvidia</td>\n",
       "      <td>Positive</td>\n",
       "      <td>Just realized that my Mac window partition is ...</td>\n",
       "    </tr>\n",
       "    <tr>\n",
       "      <th>74679</th>\n",
       "      <td>9200</td>\n",
       "      <td>Nvidia</td>\n",
       "      <td>Positive</td>\n",
       "      <td>Just realized the windows partition of my Mac ...</td>\n",
       "    </tr>\n",
       "    <tr>\n",
       "      <th>74680</th>\n",
       "      <td>9200</td>\n",
       "      <td>Nvidia</td>\n",
       "      <td>Positive</td>\n",
       "      <td>Just realized between the windows partition of...</td>\n",
       "    </tr>\n",
       "    <tr>\n",
       "      <th>74681</th>\n",
       "      <td>9200</td>\n",
       "      <td>Nvidia</td>\n",
       "      <td>Positive</td>\n",
       "      <td>Just like the windows partition of my Mac is l...</td>\n",
       "    </tr>\n",
       "  </tbody>\n",
       "</table>\n",
       "</div>"
      ],
      "text/plain": [
       "       Tweet_id Subject   Reaction  \\\n",
       "74677      9200   Nvidia  Positive   \n",
       "74678      9200   Nvidia  Positive   \n",
       "74679      9200   Nvidia  Positive   \n",
       "74680      9200   Nvidia  Positive   \n",
       "74681      9200   Nvidia  Positive   \n",
       "\n",
       "                                                   Tweet  \n",
       "74677  Just realized that the Windows partition of my...  \n",
       "74678  Just realized that my Mac window partition is ...  \n",
       "74679  Just realized the windows partition of my Mac ...  \n",
       "74680  Just realized between the windows partition of...  \n",
       "74681  Just like the windows partition of my Mac is l...  "
      ]
     },
     "execution_count": 5,
     "metadata": {},
     "output_type": "execute_result"
    }
   ],
   "source": [
    "# print the last 5 rows of the data\n",
    "Twitter_data.tail()"
   ]
  },
  {
   "cell_type": "code",
   "execution_count": 6,
   "id": "5f06f6a6",
   "metadata": {},
   "outputs": [
    {
     "data": {
      "text/plain": [
       "(74682, 4)"
      ]
     },
     "execution_count": 6,
     "metadata": {},
     "output_type": "execute_result"
    }
   ],
   "source": [
    "# No. of rows and columns in the dataset\n",
    "\n",
    "Twitter_data.shape"
   ]
  },
  {
   "cell_type": "code",
   "execution_count": 7,
   "id": "caa24d1e",
   "metadata": {},
   "outputs": [],
   "source": [
    "Twitter_data = Twitter_data.drop('Tweet_id', axis = 1)"
   ]
  },
  {
   "cell_type": "code",
   "execution_count": null,
   "id": "3e67eb24",
   "metadata": {},
   "outputs": [],
   "source": []
  },
  {
   "cell_type": "code",
   "execution_count": 8,
   "id": "b22f8a82",
   "metadata": {},
   "outputs": [
    {
     "data": {
      "text/plain": [
       "Subject       0\n",
       "Reaction      0\n",
       "Tweet       686\n",
       "dtype: int64"
      ]
     },
     "execution_count": 8,
     "metadata": {},
     "output_type": "execute_result"
    }
   ],
   "source": [
    "# Check the null values\n",
    "\n",
    "Twitter_data.isnull().sum()"
   ]
  },
  {
   "cell_type": "code",
   "execution_count": 11,
   "id": "a0e4d8fe",
   "metadata": {},
   "outputs": [
    {
     "data": {
      "text/plain": [
       "0                                                     \n",
       "1    At the same time, despite the fact that there ...\n",
       "2    It is not the first time that the EU Commissio...\n",
       "Name: Tweet, dtype: object"
      ]
     },
     "execution_count": 11,
     "metadata": {},
     "output_type": "execute_result"
    }
   ],
   "source": [
    "Twitter_data.Tweet.mode()"
   ]
  },
  {
   "cell_type": "code",
   "execution_count": 12,
   "id": "635b9640",
   "metadata": {},
   "outputs": [],
   "source": [
    "# Replace the null values with the mode of the tweet column.\n",
    "Twitter_data['Tweet'] = Twitter_data['Tweet'].fillna(Twitter_data['Tweet'].mode()[1])"
   ]
  },
  {
   "cell_type": "code",
   "execution_count": 13,
   "id": "c3931853",
   "metadata": {},
   "outputs": [
    {
     "data": {
      "text/plain": [
       "Subject     0\n",
       "Reaction    0\n",
       "Tweet       0\n",
       "dtype: int64"
      ]
     },
     "execution_count": 13,
     "metadata": {},
     "output_type": "execute_result"
    }
   ],
   "source": [
    "Twitter_data.isnull().sum()"
   ]
  },
  {
   "cell_type": "code",
   "execution_count": 14,
   "id": "6480974e",
   "metadata": {},
   "outputs": [
    {
     "data": {
      "text/plain": [
       "Negative      22542\n",
       "Positive      20832\n",
       "Neutral       18318\n",
       "Irrelevant    12990\n",
       "Name: Reaction, dtype: int64"
      ]
     },
     "execution_count": 14,
     "metadata": {},
     "output_type": "execute_result"
    }
   ],
   "source": [
    "# Checking the distribution of the target column(Reaction)\n",
    "Twitter_data.Reaction.value_counts()"
   ]
  },
  {
   "cell_type": "markdown",
   "id": "5d69c0c9",
   "metadata": {},
   "source": [
    "## Feature Engineering"
   ]
  },
  {
   "cell_type": "code",
   "execution_count": 15,
   "id": "50d96742",
   "metadata": {},
   "outputs": [],
   "source": [
    "from sklearn.preprocessing import LabelEncoder"
   ]
  },
  {
   "cell_type": "code",
   "execution_count": 16,
   "id": "bbcb5307",
   "metadata": {},
   "outputs": [],
   "source": [
    "Label_encoder = LabelEncoder()"
   ]
  },
  {
   "cell_type": "code",
   "execution_count": 17,
   "id": "2fab1f6b",
   "metadata": {},
   "outputs": [],
   "source": [
    "Twitter_data['Reaction'] = Label_encoder.fit_transform(Twitter_data['Reaction'])"
   ]
  },
  {
   "cell_type": "code",
   "execution_count": 18,
   "id": "b0a95d4a",
   "metadata": {},
   "outputs": [
    {
     "data": {
      "text/plain": [
       "1    22542\n",
       "3    20832\n",
       "2    18318\n",
       "0    12990\n",
       "Name: Reaction, dtype: int64"
      ]
     },
     "execution_count": 18,
     "metadata": {},
     "output_type": "execute_result"
    }
   ],
   "source": [
    "Twitter_data.Reaction.value_counts()"
   ]
  },
  {
   "cell_type": "code",
   "execution_count": 19,
   "id": "3181aefe",
   "metadata": {},
   "outputs": [],
   "source": [
    "reaction = [\"Negative\" ,\"Positive\", \"Neutral\", \"Irrelevant\"]\n",
    "encoded_reaction = [\"1\",\"3\",\"2\",\"0\"]"
   ]
  },
  {
   "cell_type": "code",
   "execution_count": 20,
   "id": "d39ca471",
   "metadata": {},
   "outputs": [],
   "source": [
    " encoded_values = pd.DataFrame({ \"Sentiment\" : reaction,\n",
    "                                \"Encoded_value\" : encoded_reaction\n",
    "    })"
   ]
  },
  {
   "cell_type": "code",
   "execution_count": 21,
   "id": "bb18e38d",
   "metadata": {},
   "outputs": [
    {
     "data": {
      "text/html": [
       "<div>\n",
       "<style scoped>\n",
       "    .dataframe tbody tr th:only-of-type {\n",
       "        vertical-align: middle;\n",
       "    }\n",
       "\n",
       "    .dataframe tbody tr th {\n",
       "        vertical-align: top;\n",
       "    }\n",
       "\n",
       "    .dataframe thead th {\n",
       "        text-align: right;\n",
       "    }\n",
       "</style>\n",
       "<table border=\"1\" class=\"dataframe\">\n",
       "  <thead>\n",
       "    <tr style=\"text-align: right;\">\n",
       "      <th></th>\n",
       "      <th>Sentiment</th>\n",
       "      <th>Encoded_value</th>\n",
       "    </tr>\n",
       "  </thead>\n",
       "  <tbody>\n",
       "    <tr>\n",
       "      <th>0</th>\n",
       "      <td>Negative</td>\n",
       "      <td>1</td>\n",
       "    </tr>\n",
       "    <tr>\n",
       "      <th>1</th>\n",
       "      <td>Positive</td>\n",
       "      <td>3</td>\n",
       "    </tr>\n",
       "    <tr>\n",
       "      <th>2</th>\n",
       "      <td>Neutral</td>\n",
       "      <td>2</td>\n",
       "    </tr>\n",
       "    <tr>\n",
       "      <th>3</th>\n",
       "      <td>Irrelevant</td>\n",
       "      <td>0</td>\n",
       "    </tr>\n",
       "  </tbody>\n",
       "</table>\n",
       "</div>"
      ],
      "text/plain": [
       "    Sentiment Encoded_value\n",
       "0    Negative             1\n",
       "1    Positive             3\n",
       "2     Neutral             2\n",
       "3  Irrelevant             0"
      ]
     },
     "execution_count": 21,
     "metadata": {},
     "output_type": "execute_result"
    }
   ],
   "source": [
    "encoded_values"
   ]
  },
  {
   "cell_type": "code",
   "execution_count": 22,
   "id": "7cc0a936",
   "metadata": {},
   "outputs": [
    {
     "data": {
      "text/html": [
       "<div>\n",
       "<style scoped>\n",
       "    .dataframe tbody tr th:only-of-type {\n",
       "        vertical-align: middle;\n",
       "    }\n",
       "\n",
       "    .dataframe tbody tr th {\n",
       "        vertical-align: top;\n",
       "    }\n",
       "\n",
       "    .dataframe thead th {\n",
       "        text-align: right;\n",
       "    }\n",
       "</style>\n",
       "<table border=\"1\" class=\"dataframe\">\n",
       "  <thead>\n",
       "    <tr style=\"text-align: right;\">\n",
       "      <th></th>\n",
       "      <th>Subject</th>\n",
       "      <th>Reaction</th>\n",
       "      <th>Tweet</th>\n",
       "    </tr>\n",
       "  </thead>\n",
       "  <tbody>\n",
       "    <tr>\n",
       "      <th>0</th>\n",
       "      <td>Borderlands</td>\n",
       "      <td>3</td>\n",
       "      <td>im getting on borderlands and i will murder yo...</td>\n",
       "    </tr>\n",
       "    <tr>\n",
       "      <th>1</th>\n",
       "      <td>Borderlands</td>\n",
       "      <td>3</td>\n",
       "      <td>I am coming to the borders and I will kill you...</td>\n",
       "    </tr>\n",
       "    <tr>\n",
       "      <th>2</th>\n",
       "      <td>Borderlands</td>\n",
       "      <td>3</td>\n",
       "      <td>im getting on borderlands and i will kill you ...</td>\n",
       "    </tr>\n",
       "    <tr>\n",
       "      <th>3</th>\n",
       "      <td>Borderlands</td>\n",
       "      <td>3</td>\n",
       "      <td>im coming on borderlands and i will murder you...</td>\n",
       "    </tr>\n",
       "    <tr>\n",
       "      <th>4</th>\n",
       "      <td>Borderlands</td>\n",
       "      <td>3</td>\n",
       "      <td>im getting on borderlands 2 and i will murder ...</td>\n",
       "    </tr>\n",
       "  </tbody>\n",
       "</table>\n",
       "</div>"
      ],
      "text/plain": [
       "      Subject   Reaction                                              Tweet\n",
       "0  Borderlands         3  im getting on borderlands and i will murder yo...\n",
       "1  Borderlands         3  I am coming to the borders and I will kill you...\n",
       "2  Borderlands         3  im getting on borderlands and i will kill you ...\n",
       "3  Borderlands         3  im coming on borderlands and i will murder you...\n",
       "4  Borderlands         3  im getting on borderlands 2 and i will murder ..."
      ]
     },
     "execution_count": 22,
     "metadata": {},
     "output_type": "execute_result"
    }
   ],
   "source": [
    "Twitter_data.head()"
   ]
  },
  {
   "cell_type": "markdown",
   "id": "701574ee",
   "metadata": {},
   "source": [
    "## Stemming  (Reduces the word to its root word)"
   ]
  },
  {
   "cell_type": "code",
   "execution_count": 23,
   "id": "0ac27ab9",
   "metadata": {},
   "outputs": [],
   "source": [
    "port_stem = PorterStemmer()"
   ]
  },
  {
   "cell_type": "code",
   "execution_count": 24,
   "id": "1e30819c",
   "metadata": {},
   "outputs": [],
   "source": [
    "def stemming(content):\n",
    "    \n",
    "    stemmed_content = re.sub('[^a-zA-Z]',' ',content)\n",
    "    stemmed_content = stemmed_content.lower()\n",
    "    stemmed_content = stemmed_content.split()\n",
    "    stemmed_content = [port_stem.stem(word) for word in stemmed_content if not word in stopwords.words('english')]\n",
    "    stemmed_content = ' '.join(stemmed_content)\n",
    "    \n",
    "    return stemmed_content"
   ]
  },
  {
   "cell_type": "code",
   "execution_count": 25,
   "id": "820deef9",
   "metadata": {},
   "outputs": [],
   "source": [
    "Twitter_data['Stemmed_content'] = Twitter_data['Tweet'].apply(stemming)"
   ]
  },
  {
   "cell_type": "code",
   "execution_count": 26,
   "id": "a7ab4e24",
   "metadata": {},
   "outputs": [
    {
     "data": {
      "text/html": [
       "<div>\n",
       "<style scoped>\n",
       "    .dataframe tbody tr th:only-of-type {\n",
       "        vertical-align: middle;\n",
       "    }\n",
       "\n",
       "    .dataframe tbody tr th {\n",
       "        vertical-align: top;\n",
       "    }\n",
       "\n",
       "    .dataframe thead th {\n",
       "        text-align: right;\n",
       "    }\n",
       "</style>\n",
       "<table border=\"1\" class=\"dataframe\">\n",
       "  <thead>\n",
       "    <tr style=\"text-align: right;\">\n",
       "      <th></th>\n",
       "      <th>Subject</th>\n",
       "      <th>Reaction</th>\n",
       "      <th>Tweet</th>\n",
       "      <th>Stemmed_content</th>\n",
       "    </tr>\n",
       "  </thead>\n",
       "  <tbody>\n",
       "    <tr>\n",
       "      <th>0</th>\n",
       "      <td>Borderlands</td>\n",
       "      <td>3</td>\n",
       "      <td>im getting on borderlands and i will murder yo...</td>\n",
       "      <td>im get borderland murder</td>\n",
       "    </tr>\n",
       "    <tr>\n",
       "      <th>1</th>\n",
       "      <td>Borderlands</td>\n",
       "      <td>3</td>\n",
       "      <td>I am coming to the borders and I will kill you...</td>\n",
       "      <td>come border kill</td>\n",
       "    </tr>\n",
       "    <tr>\n",
       "      <th>2</th>\n",
       "      <td>Borderlands</td>\n",
       "      <td>3</td>\n",
       "      <td>im getting on borderlands and i will kill you ...</td>\n",
       "      <td>im get borderland kill</td>\n",
       "    </tr>\n",
       "    <tr>\n",
       "      <th>3</th>\n",
       "      <td>Borderlands</td>\n",
       "      <td>3</td>\n",
       "      <td>im coming on borderlands and i will murder you...</td>\n",
       "      <td>im come borderland murder</td>\n",
       "    </tr>\n",
       "    <tr>\n",
       "      <th>4</th>\n",
       "      <td>Borderlands</td>\n",
       "      <td>3</td>\n",
       "      <td>im getting on borderlands 2 and i will murder ...</td>\n",
       "      <td>im get borderland murder</td>\n",
       "    </tr>\n",
       "  </tbody>\n",
       "</table>\n",
       "</div>"
      ],
      "text/plain": [
       "      Subject   Reaction                                              Tweet  \\\n",
       "0  Borderlands         3  im getting on borderlands and i will murder yo...   \n",
       "1  Borderlands         3  I am coming to the borders and I will kill you...   \n",
       "2  Borderlands         3  im getting on borderlands and i will kill you ...   \n",
       "3  Borderlands         3  im coming on borderlands and i will murder you...   \n",
       "4  Borderlands         3  im getting on borderlands 2 and i will murder ...   \n",
       "\n",
       "             Stemmed_content  \n",
       "0   im get borderland murder  \n",
       "1           come border kill  \n",
       "2     im get borderland kill  \n",
       "3  im come borderland murder  \n",
       "4   im get borderland murder  "
      ]
     },
     "execution_count": 26,
     "metadata": {},
     "output_type": "execute_result"
    }
   ],
   "source": [
    "Twitter_data.head()"
   ]
  },
  {
   "cell_type": "code",
   "execution_count": 27,
   "id": "476ac3dc",
   "metadata": {},
   "outputs": [
    {
     "name": "stdout",
     "output_type": "stream",
     "text": [
      "0                                 im get borderland murder\n",
      "1                                         come border kill\n",
      "2                                   im get borderland kill\n",
      "3                                im come borderland murder\n",
      "4                                 im get borderland murder\n",
      "                               ...                        \n",
      "74677    realiz window partit mac like year behind nvid...\n",
      "74678    realiz mac window partit year behind nvidia dr...\n",
      "74679    realiz window partit mac year behind nvidia dr...\n",
      "74680    realiz window partit mac like year behind nvid...\n",
      "74681    like window partit mac like year behind driver...\n",
      "Name: Stemmed_content, Length: 74682, dtype: object\n"
     ]
    }
   ],
   "source": [
    "print(Twitter_data['Stemmed_content'])"
   ]
  },
  {
   "cell_type": "markdown",
   "id": "4d3e2a71",
   "metadata": {},
   "source": [
    "## Creating the dependent and Independent variables"
   ]
  },
  {
   "cell_type": "code",
   "execution_count": 28,
   "id": "ed47b6cc",
   "metadata": {},
   "outputs": [],
   "source": [
    "X = Twitter_data['Stemmed_content']      # Independent Variable (Predictor)\n",
    "y = Twitter_data['Reaction']            # Dependent Variable (Target)  "
   ]
  },
  {
   "cell_type": "code",
   "execution_count": 29,
   "id": "338cfca2",
   "metadata": {},
   "outputs": [
    {
     "data": {
      "text/plain": [
       "0     im get borderland murder\n",
       "1             come border kill\n",
       "2       im get borderland kill\n",
       "3    im come borderland murder\n",
       "4     im get borderland murder\n",
       "Name: Stemmed_content, dtype: object"
      ]
     },
     "execution_count": 29,
     "metadata": {},
     "output_type": "execute_result"
    }
   ],
   "source": [
    "X.head()"
   ]
  },
  {
   "cell_type": "code",
   "execution_count": 76,
   "id": "3d7c5372",
   "metadata": {},
   "outputs": [
    {
     "data": {
      "text/plain": [
       "0    3\n",
       "1    3\n",
       "2    3\n",
       "3    3\n",
       "4    3\n",
       "Name: Reaction, dtype: int32"
      ]
     },
     "execution_count": 76,
     "metadata": {},
     "output_type": "execute_result"
    }
   ],
   "source": [
    "y.head()"
   ]
  },
  {
   "cell_type": "markdown",
   "id": "67c47a42",
   "metadata": {},
   "source": [
    "## Splitting the data into tarining and testing"
   ]
  },
  {
   "cell_type": "code",
   "execution_count": 61,
   "id": "83130335",
   "metadata": {},
   "outputs": [],
   "source": [
    "X_train, X_test, y_train, y_test = train_test_split(X, y, test_size = 0.2, random_state = 42)"
   ]
  },
  {
   "cell_type": "code",
   "execution_count": 62,
   "id": "8a483fd3",
   "metadata": {},
   "outputs": [
    {
     "name": "stdout",
     "output_type": "stream",
     "text": [
      "(74682,) (59745,) (14937,)\n"
     ]
    }
   ],
   "source": [
    "print(X.shape, X_train.shape, X_test.shape)"
   ]
  },
  {
   "cell_type": "code",
   "execution_count": null,
   "id": "5fbdf949",
   "metadata": {},
   "outputs": [],
   "source": []
  },
  {
   "cell_type": "code",
   "execution_count": 63,
   "id": "0e65094e",
   "metadata": {},
   "outputs": [
    {
     "data": {
      "text/plain": [
       "8581     good ambarkortiz mad turn bag bastion lol swee...\n",
       "71534    must say everi moment fun breakpoint serv leas...\n",
       "67252    busi awesomecapit johnson meyer johnson busi r...\n",
       "41061    found perfect flamethrow imag scocont scohellf...\n",
       "16591                     first time eu commiss taken step\n",
       "                               ...                        \n",
       "37194    microsoft open coronaviru threat data public c...\n",
       "6265     fast pace rivet uniqu read grab copi murder pr...\n",
       "54886    nah fr find shit big warzon beef dont come out...\n",
       "860      borderland suck yall give money random pitchfo...\n",
       "15795    trump ban eu travel month major still possibl ...\n",
       "Name: Stemmed_content, Length: 59745, dtype: object"
      ]
     },
     "execution_count": 63,
     "metadata": {},
     "output_type": "execute_result"
    }
   ],
   "source": [
    "X_train"
   ]
  },
  {
   "cell_type": "code",
   "execution_count": 64,
   "id": "c3ee66dc",
   "metadata": {},
   "outputs": [
    {
     "data": {
      "text/plain": [
       "34877        said told u get box brain dead control player\n",
       "21704                    yo look lit cs go overwatch combo\n",
       "47008    homedepot attent execut administr ever store g...\n",
       "7969     guy notifi say name forward litter list lmaooo...\n",
       "454      f love new dlc rhandlerr rhandlerr rhandlerr p...\n",
       "                               ...                        \n",
       "52360    name entir favourit game videogam seven assass...\n",
       "57296                   thank smurf ban player cheat cheat\n",
       "35884    appar microsoft window offer free train vouche...\n",
       "59060    caus actual actual checker receiv statist acti...\n",
       "4740     comfi delux pant waist extend comfi clothier f...\n",
       "Name: Stemmed_content, Length: 14937, dtype: object"
      ]
     },
     "execution_count": 64,
     "metadata": {},
     "output_type": "execute_result"
    }
   ],
   "source": [
    "X_test"
   ]
  },
  {
   "cell_type": "markdown",
   "id": "217e15c6",
   "metadata": {},
   "source": [
    "## Convert text to numerical data"
   ]
  },
  {
   "cell_type": "code",
   "execution_count": 65,
   "id": "0dadb847",
   "metadata": {},
   "outputs": [],
   "source": [
    "text_Vector = TfidfVectorizer()"
   ]
  },
  {
   "cell_type": "code",
   "execution_count": 66,
   "id": "900dec4f",
   "metadata": {},
   "outputs": [],
   "source": [
    "X_train = text_Vector.fit_transform(X_train)\n",
    "X_test = text_Vector.fit_transform(X_test)"
   ]
  },
  {
   "cell_type": "code",
   "execution_count": 67,
   "id": "26abb656",
   "metadata": {},
   "outputs": [
    {
     "name": "stdout",
     "output_type": "stream",
     "text": [
      "  (0, 17302)\t0.3924217706988835\n",
      "  (0, 17857)\t0.31438583933555975\n",
      "  (0, 10727)\t0.24292277199852377\n",
      "  (0, 1378)\t0.43396796106095736\n",
      "  (0, 1264)\t0.34067793702687965\n",
      "  (0, 19025)\t0.2654105251821454\n",
      "  (0, 10982)\t0.28677215493945374\n",
      "  (0, 513)\t0.4450960596891431\n",
      "  (0, 7362)\t0.18158760604789295\n",
      "  (1, 6679)\t0.30960443676752686\n",
      "  (1, 5264)\t0.380801716054174\n",
      "  (1, 10376)\t0.2814739496735629\n",
      "  (1, 16344)\t0.35032010366487926\n",
      "  (1, 2162)\t0.2836865058035366\n",
      "  (1, 6736)\t0.2085247592525314\n",
      "  (1, 11837)\t0.5196521473351653\n",
      "  (1, 5665)\t0.2159420070932475\n",
      "  (1, 16056)\t0.20145764016254486\n",
      "  (1, 12088)\t0.2756234608550865\n",
      "  (2, 9532)\t0.2177196623101039\n",
      "  (2, 3317)\t0.08461427170768929\n",
      "  (2, 1876)\t0.2416283363274414\n",
      "  (2, 15354)\t0.2539481595102002\n",
      "  (2, 7648)\t0.2555419335079015\n",
      "  (2, 5121)\t0.17378826681615367\n",
      "  :\t:\n",
      "  (59742, 3327)\t0.16635685639758974\n",
      "  (59742, 1672)\t0.18736479901960676\n",
      "  (59742, 16529)\t0.15201787734936653\n",
      "  (59743, 2042)\t0.45807274181373553\n",
      "  (59743, 13859)\t0.40386274499258\n",
      "  (59743, 14867)\t0.3101030469545981\n",
      "  (59743, 21048)\t0.3020060184877205\n",
      "  (59743, 6642)\t0.24611339269766008\n",
      "  (59743, 11850)\t0.2515897575098867\n",
      "  (59743, 7188)\t0.2345366861864507\n",
      "  (59743, 17696)\t0.26484002019013064\n",
      "  (59743, 147)\t0.23306577560842776\n",
      "  (59743, 7300)\t0.18100685941239913\n",
      "  (59743, 6849)\t0.13760369946506845\n",
      "  (59743, 2031)\t0.2230091986055713\n",
      "  (59743, 7362)\t0.1868817545584301\n",
      "  (59744, 18829)\t0.44969972911999984\n",
      "  (59744, 14110)\t0.35012103777163145\n",
      "  (59744, 18944)\t0.3527170844829867\n",
      "  (59744, 1305)\t0.2598134945694456\n",
      "  (59744, 11051)\t0.3546876101281096\n",
      "  (59744, 20310)\t0.2959728764957678\n",
      "  (59744, 11875)\t0.29724240064640023\n",
      "  (59744, 17498)\t0.23861338387883704\n",
      "  (59744, 5632)\t0.35295946337339595\n"
     ]
    }
   ],
   "source": [
    "print(X_train)"
   ]
  },
  {
   "cell_type": "code",
   "execution_count": 68,
   "id": "3a7ac537",
   "metadata": {},
   "outputs": [
    {
     "name": "stdout",
     "output_type": "stream",
     "text": [
      "  (0, 9398)\t0.27623173408275836\n",
      "  (0, 2430)\t0.3704641064940711\n",
      "  (0, 2870)\t0.2791464317242835\n",
      "  (0, 1460)\t0.45058105683776173\n",
      "  (0, 1437)\t0.40142730703048185\n",
      "  (0, 4794)\t0.22354666742498375\n",
      "  (0, 12767)\t0.41114632150006863\n",
      "  (0, 10818)\t0.3540452834457041\n",
      "  (1, 2279)\t0.4894699249265343\n",
      "  (1, 8978)\t0.31687941843549455\n",
      "  (1, 4950)\t0.24960216228197166\n",
      "  (1, 2635)\t0.3845970063034264\n",
      "  (1, 7157)\t0.4603586889268324\n",
      "  (1, 7256)\t0.27161539057843437\n",
      "  (1, 14470)\t0.4050746686988643\n",
      "  (2, 9712)\t0.22670012876140436\n",
      "  (2, 9653)\t0.21456367904610238\n",
      "  (2, 3038)\t0.23706004122855423\n",
      "  (2, 8315)\t0.2794344228764557\n",
      "  (2, 5458)\t0.13951783572213247\n",
      "  (2, 7447)\t0.2246122844111572\n",
      "  (2, 13377)\t0.13433225020614878\n",
      "  (2, 3578)\t0.20314050808913692\n",
      "  (2, 545)\t0.20314050808913692\n",
      "  (2, 3335)\t0.2599063831424852\n",
      "  :\t:\n",
      "  (14934, 8695)\t0.2050392187087316\n",
      "  (14934, 349)\t0.14971913955668112\n",
      "  (14934, 13691)\t0.2593721318581583\n",
      "  (14934, 7115)\t0.11268074661898086\n",
      "  (14934, 4794)\t0.1103854956861009\n",
      "  (14935, 100)\t0.07569276473982028\n",
      "  (14935, 101)\t0.15138552947964057\n",
      "  (14935, 99)\t0.8326204121380232\n",
      "  (14935, 2648)\t0.06870012834124242\n",
      "  (14935, 1978)\t0.06730874860778695\n",
      "  (14935, 6099)\t0.062019023375664055\n",
      "  (14935, 11911)\t0.5014643780002694\n",
      "  (14935, 883)\t0.05264251195070424\n",
      "  (14935, 1831)\t0.04464014836087582\n",
      "  (14935, 109)\t0.07825095918218251\n",
      "  (14935, 10160)\t0.05143957291141823\n",
      "  (14936, 4105)\t0.31330634350503694\n",
      "  (14936, 2172)\t0.31330634350503694\n",
      "  (14936, 13746)\t0.29141119307263513\n",
      "  (14936, 12828)\t0.26579550917142786\n",
      "  (14936, 14365)\t0.30049850155443325\n",
      "  (14936, 9055)\t0.2843625290066598\n",
      "  (14936, 2967)\t0.2843625290066598\n",
      "  (14936, 2290)\t0.5687250580133196\n",
      "  (14936, 3962)\t0.2695160426402334\n"
     ]
    }
   ],
   "source": [
    "print(X_test)"
   ]
  },
  {
   "cell_type": "markdown",
   "id": "35cfc0b8",
   "metadata": {},
   "source": [
    "## Training the Machine Learning Model"
   ]
  },
  {
   "cell_type": "markdown",
   "id": "53e41ac6",
   "metadata": {},
   "source": [
    "### Logistic Regression Model"
   ]
  },
  {
   "cell_type": "code",
   "execution_count": 69,
   "id": "ac61aa5c",
   "metadata": {},
   "outputs": [],
   "source": [
    "LR_model = LogisticRegression()"
   ]
  },
  {
   "cell_type": "code",
   "execution_count": 70,
   "id": "3ad64a46",
   "metadata": {},
   "outputs": [
    {
     "name": "stderr",
     "output_type": "stream",
     "text": [
      "C:\\ProgramData\\anaconda3\\Lib\\site-packages\\sklearn\\linear_model\\_logistic.py:460: ConvergenceWarning: lbfgs failed to converge (status=1):\n",
      "STOP: TOTAL NO. of ITERATIONS REACHED LIMIT.\n",
      "\n",
      "Increase the number of iterations (max_iter) or scale the data as shown in:\n",
      "    https://scikit-learn.org/stable/modules/preprocessing.html\n",
      "Please also refer to the documentation for alternative solver options:\n",
      "    https://scikit-learn.org/stable/modules/linear_model.html#logistic-regression\n",
      "  n_iter_i = _check_optimize_result(\n"
     ]
    },
    {
     "data": {
      "text/html": [
       "<style>#sk-container-id-3 {color: black;}#sk-container-id-3 pre{padding: 0;}#sk-container-id-3 div.sk-toggleable {background-color: white;}#sk-container-id-3 label.sk-toggleable__label {cursor: pointer;display: block;width: 100%;margin-bottom: 0;padding: 0.3em;box-sizing: border-box;text-align: center;}#sk-container-id-3 label.sk-toggleable__label-arrow:before {content: \"▸\";float: left;margin-right: 0.25em;color: #696969;}#sk-container-id-3 label.sk-toggleable__label-arrow:hover:before {color: black;}#sk-container-id-3 div.sk-estimator:hover label.sk-toggleable__label-arrow:before {color: black;}#sk-container-id-3 div.sk-toggleable__content {max-height: 0;max-width: 0;overflow: hidden;text-align: left;background-color: #f0f8ff;}#sk-container-id-3 div.sk-toggleable__content pre {margin: 0.2em;color: black;border-radius: 0.25em;background-color: #f0f8ff;}#sk-container-id-3 input.sk-toggleable__control:checked~div.sk-toggleable__content {max-height: 200px;max-width: 100%;overflow: auto;}#sk-container-id-3 input.sk-toggleable__control:checked~label.sk-toggleable__label-arrow:before {content: \"▾\";}#sk-container-id-3 div.sk-estimator input.sk-toggleable__control:checked~label.sk-toggleable__label {background-color: #d4ebff;}#sk-container-id-3 div.sk-label input.sk-toggleable__control:checked~label.sk-toggleable__label {background-color: #d4ebff;}#sk-container-id-3 input.sk-hidden--visually {border: 0;clip: rect(1px 1px 1px 1px);clip: rect(1px, 1px, 1px, 1px);height: 1px;margin: -1px;overflow: hidden;padding: 0;position: absolute;width: 1px;}#sk-container-id-3 div.sk-estimator {font-family: monospace;background-color: #f0f8ff;border: 1px dotted black;border-radius: 0.25em;box-sizing: border-box;margin-bottom: 0.5em;}#sk-container-id-3 div.sk-estimator:hover {background-color: #d4ebff;}#sk-container-id-3 div.sk-parallel-item::after {content: \"\";width: 100%;border-bottom: 1px solid gray;flex-grow: 1;}#sk-container-id-3 div.sk-label:hover label.sk-toggleable__label {background-color: #d4ebff;}#sk-container-id-3 div.sk-serial::before {content: \"\";position: absolute;border-left: 1px solid gray;box-sizing: border-box;top: 0;bottom: 0;left: 50%;z-index: 0;}#sk-container-id-3 div.sk-serial {display: flex;flex-direction: column;align-items: center;background-color: white;padding-right: 0.2em;padding-left: 0.2em;position: relative;}#sk-container-id-3 div.sk-item {position: relative;z-index: 1;}#sk-container-id-3 div.sk-parallel {display: flex;align-items: stretch;justify-content: center;background-color: white;position: relative;}#sk-container-id-3 div.sk-item::before, #sk-container-id-3 div.sk-parallel-item::before {content: \"\";position: absolute;border-left: 1px solid gray;box-sizing: border-box;top: 0;bottom: 0;left: 50%;z-index: -1;}#sk-container-id-3 div.sk-parallel-item {display: flex;flex-direction: column;z-index: 1;position: relative;background-color: white;}#sk-container-id-3 div.sk-parallel-item:first-child::after {align-self: flex-end;width: 50%;}#sk-container-id-3 div.sk-parallel-item:last-child::after {align-self: flex-start;width: 50%;}#sk-container-id-3 div.sk-parallel-item:only-child::after {width: 0;}#sk-container-id-3 div.sk-dashed-wrapped {border: 1px dashed gray;margin: 0 0.4em 0.5em 0.4em;box-sizing: border-box;padding-bottom: 0.4em;background-color: white;}#sk-container-id-3 div.sk-label label {font-family: monospace;font-weight: bold;display: inline-block;line-height: 1.2em;}#sk-container-id-3 div.sk-label-container {text-align: center;}#sk-container-id-3 div.sk-container {/* jupyter's `normalize.less` sets `[hidden] { display: none; }` but bootstrap.min.css set `[hidden] { display: none !important; }` so we also need the `!important` here to be able to override the default hidden behavior on the sphinx rendered scikit-learn.org. See: https://github.com/scikit-learn/scikit-learn/issues/21755 */display: inline-block !important;position: relative;}#sk-container-id-3 div.sk-text-repr-fallback {display: none;}</style><div id=\"sk-container-id-3\" class=\"sk-top-container\"><div class=\"sk-text-repr-fallback\"><pre>LogisticRegression()</pre><b>In a Jupyter environment, please rerun this cell to show the HTML representation or trust the notebook. <br />On GitHub, the HTML representation is unable to render, please try loading this page with nbviewer.org.</b></div><div class=\"sk-container\" hidden><div class=\"sk-item\"><div class=\"sk-estimator sk-toggleable\"><input class=\"sk-toggleable__control sk-hidden--visually\" id=\"sk-estimator-id-3\" type=\"checkbox\" checked><label for=\"sk-estimator-id-3\" class=\"sk-toggleable__label sk-toggleable__label-arrow\">LogisticRegression</label><div class=\"sk-toggleable__content\"><pre>LogisticRegression()</pre></div></div></div></div></div>"
      ],
      "text/plain": [
       "LogisticRegression()"
      ]
     },
     "execution_count": 70,
     "metadata": {},
     "output_type": "execute_result"
    }
   ],
   "source": [
    "LR_model.fit(X_train, y_train)"
   ]
  },
  {
   "cell_type": "markdown",
   "id": "f914c6ae",
   "metadata": {},
   "source": [
    "### Model Evaluation"
   ]
  },
  {
   "cell_type": "code",
   "execution_count": 71,
   "id": "f7673a77",
   "metadata": {},
   "outputs": [
    {
     "data": {
      "text/plain": [
       "array([3, 3, 2, ..., 1, 1, 2])"
      ]
     },
     "execution_count": 71,
     "metadata": {},
     "output_type": "execute_result"
    }
   ],
   "source": [
    "# prediction on the Training data\n",
    "y_pred_train = LR_model.predict(X_train)\n",
    "y_pred_train"
   ]
  },
  {
   "cell_type": "code",
   "execution_count": 72,
   "id": "2737c4cf",
   "metadata": {},
   "outputs": [
    {
     "name": "stdout",
     "output_type": "stream",
     "text": [
      " Accuracy of the training data is 82.31%\n"
     ]
    }
   ],
   "source": [
    "# Accuracy Score of the Training data\n",
    "training_accuracy = accuracy_score(y_train, y_pred_train)\n",
    "print(f\" Accuracy of the training data is {round(training_accuracy*100,2)}%\")"
   ]
  },
  {
   "cell_type": "code",
   "execution_count": 80,
   "id": "6f6c8093",
   "metadata": {},
   "outputs": [
    {
     "name": "stderr",
     "output_type": "stream",
     "text": [
      "C:\\ProgramData\\anaconda3\\Lib\\site-packages\\sklearn\\linear_model\\_logistic.py:460: ConvergenceWarning: lbfgs failed to converge (status=1):\n",
      "STOP: TOTAL NO. of ITERATIONS REACHED LIMIT.\n",
      "\n",
      "Increase the number of iterations (max_iter) or scale the data as shown in:\n",
      "    https://scikit-learn.org/stable/modules/preprocessing.html\n",
      "Please also refer to the documentation for alternative solver options:\n",
      "    https://scikit-learn.org/stable/modules/linear_model.html#logistic-regression\n",
      "  n_iter_i = _check_optimize_result(\n"
     ]
    },
    {
     "data": {
      "text/html": [
       "<style>#sk-container-id-4 {color: black;}#sk-container-id-4 pre{padding: 0;}#sk-container-id-4 div.sk-toggleable {background-color: white;}#sk-container-id-4 label.sk-toggleable__label {cursor: pointer;display: block;width: 100%;margin-bottom: 0;padding: 0.3em;box-sizing: border-box;text-align: center;}#sk-container-id-4 label.sk-toggleable__label-arrow:before {content: \"▸\";float: left;margin-right: 0.25em;color: #696969;}#sk-container-id-4 label.sk-toggleable__label-arrow:hover:before {color: black;}#sk-container-id-4 div.sk-estimator:hover label.sk-toggleable__label-arrow:before {color: black;}#sk-container-id-4 div.sk-toggleable__content {max-height: 0;max-width: 0;overflow: hidden;text-align: left;background-color: #f0f8ff;}#sk-container-id-4 div.sk-toggleable__content pre {margin: 0.2em;color: black;border-radius: 0.25em;background-color: #f0f8ff;}#sk-container-id-4 input.sk-toggleable__control:checked~div.sk-toggleable__content {max-height: 200px;max-width: 100%;overflow: auto;}#sk-container-id-4 input.sk-toggleable__control:checked~label.sk-toggleable__label-arrow:before {content: \"▾\";}#sk-container-id-4 div.sk-estimator input.sk-toggleable__control:checked~label.sk-toggleable__label {background-color: #d4ebff;}#sk-container-id-4 div.sk-label input.sk-toggleable__control:checked~label.sk-toggleable__label {background-color: #d4ebff;}#sk-container-id-4 input.sk-hidden--visually {border: 0;clip: rect(1px 1px 1px 1px);clip: rect(1px, 1px, 1px, 1px);height: 1px;margin: -1px;overflow: hidden;padding: 0;position: absolute;width: 1px;}#sk-container-id-4 div.sk-estimator {font-family: monospace;background-color: #f0f8ff;border: 1px dotted black;border-radius: 0.25em;box-sizing: border-box;margin-bottom: 0.5em;}#sk-container-id-4 div.sk-estimator:hover {background-color: #d4ebff;}#sk-container-id-4 div.sk-parallel-item::after {content: \"\";width: 100%;border-bottom: 1px solid gray;flex-grow: 1;}#sk-container-id-4 div.sk-label:hover label.sk-toggleable__label {background-color: #d4ebff;}#sk-container-id-4 div.sk-serial::before {content: \"\";position: absolute;border-left: 1px solid gray;box-sizing: border-box;top: 0;bottom: 0;left: 50%;z-index: 0;}#sk-container-id-4 div.sk-serial {display: flex;flex-direction: column;align-items: center;background-color: white;padding-right: 0.2em;padding-left: 0.2em;position: relative;}#sk-container-id-4 div.sk-item {position: relative;z-index: 1;}#sk-container-id-4 div.sk-parallel {display: flex;align-items: stretch;justify-content: center;background-color: white;position: relative;}#sk-container-id-4 div.sk-item::before, #sk-container-id-4 div.sk-parallel-item::before {content: \"\";position: absolute;border-left: 1px solid gray;box-sizing: border-box;top: 0;bottom: 0;left: 50%;z-index: -1;}#sk-container-id-4 div.sk-parallel-item {display: flex;flex-direction: column;z-index: 1;position: relative;background-color: white;}#sk-container-id-4 div.sk-parallel-item:first-child::after {align-self: flex-end;width: 50%;}#sk-container-id-4 div.sk-parallel-item:last-child::after {align-self: flex-start;width: 50%;}#sk-container-id-4 div.sk-parallel-item:only-child::after {width: 0;}#sk-container-id-4 div.sk-dashed-wrapped {border: 1px dashed gray;margin: 0 0.4em 0.5em 0.4em;box-sizing: border-box;padding-bottom: 0.4em;background-color: white;}#sk-container-id-4 div.sk-label label {font-family: monospace;font-weight: bold;display: inline-block;line-height: 1.2em;}#sk-container-id-4 div.sk-label-container {text-align: center;}#sk-container-id-4 div.sk-container {/* jupyter's `normalize.less` sets `[hidden] { display: none; }` but bootstrap.min.css set `[hidden] { display: none !important; }` so we also need the `!important` here to be able to override the default hidden behavior on the sphinx rendered scikit-learn.org. See: https://github.com/scikit-learn/scikit-learn/issues/21755 */display: inline-block !important;position: relative;}#sk-container-id-4 div.sk-text-repr-fallback {display: none;}</style><div id=\"sk-container-id-4\" class=\"sk-top-container\"><div class=\"sk-text-repr-fallback\"><pre>LogisticRegression()</pre><b>In a Jupyter environment, please rerun this cell to show the HTML representation or trust the notebook. <br />On GitHub, the HTML representation is unable to render, please try loading this page with nbviewer.org.</b></div><div class=\"sk-container\" hidden><div class=\"sk-item\"><div class=\"sk-estimator sk-toggleable\"><input class=\"sk-toggleable__control sk-hidden--visually\" id=\"sk-estimator-id-4\" type=\"checkbox\" checked><label for=\"sk-estimator-id-4\" class=\"sk-toggleable__label sk-toggleable__label-arrow\">LogisticRegression</label><div class=\"sk-toggleable__content\"><pre>LogisticRegression()</pre></div></div></div></div></div>"
      ],
      "text/plain": [
       "LogisticRegression()"
      ]
     },
     "execution_count": 80,
     "metadata": {},
     "output_type": "execute_result"
    }
   ],
   "source": [
    "LR_model.fit(X_test, y_test)"
   ]
  },
  {
   "cell_type": "code",
   "execution_count": 81,
   "id": "c2c587b1",
   "metadata": {},
   "outputs": [
    {
     "data": {
      "text/plain": [
       "array([0, 3, 1, ..., 3, 1, 2])"
      ]
     },
     "execution_count": 81,
     "metadata": {},
     "output_type": "execute_result"
    }
   ],
   "source": [
    "y_pred_test = LR_model.predict(X_test)\n",
    "y_pred_test"
   ]
  },
  {
   "cell_type": "code",
   "execution_count": 82,
   "id": "ced5e51d",
   "metadata": {},
   "outputs": [],
   "source": [
    "from sklearn.metrics import confusion_matrix"
   ]
  },
  {
   "cell_type": "code",
   "execution_count": 83,
   "id": "386d6e34",
   "metadata": {},
   "outputs": [
    {
     "data": {
      "text/plain": [
       "array([[1701,  351,  207,  333],\n",
       "       [  48, 4009,  219,  243],\n",
       "       [  63,  431, 2734,  368],\n",
       "       [  84,  374,  240, 3532]], dtype=int64)"
      ]
     },
     "execution_count": 83,
     "metadata": {},
     "output_type": "execute_result"
    }
   ],
   "source": [
    "CM_LR = confusion_matrix(y_test, y_pred_test)\n",
    "CM_LR"
   ]
  },
  {
   "cell_type": "code",
   "execution_count": 84,
   "id": "800ae79c",
   "metadata": {},
   "outputs": [
    {
     "data": {
      "text/plain": [
       "<Axes: >"
      ]
     },
     "execution_count": 84,
     "metadata": {},
     "output_type": "execute_result"
    },
    {
     "data": {
      "image/png": "[encoded data removed]",
      "text/plain": [
       "<Figure size 640x480 with 2 Axes>"
      ]
     },
     "metadata": {},
     "output_type": "display_data"
    }
   ],
   "source": [
    "sns.heatmap(CM_LR, annot = True)"
   ]
  },
  {
   "cell_type": "code",
   "execution_count": 85,
   "id": "884cb946",
   "metadata": {},
   "outputs": [],
   "source": [
    "from sklearn.metrics import classification_report"
   ]
  },
  {
   "cell_type": "code",
   "execution_count": 86,
   "id": "51c78ac4",
   "metadata": {},
   "outputs": [
    {
     "name": "stdout",
     "output_type": "stream",
     "text": [
      "              precision    recall  f1-score   support\n",
      "\n",
      "           0       0.90      0.66      0.76      2592\n",
      "           1       0.78      0.89      0.83      4519\n",
      "           2       0.80      0.76      0.78      3596\n",
      "           3       0.79      0.83      0.81      4230\n",
      "\n",
      "    accuracy                           0.80     14937\n",
      "   macro avg       0.82      0.78      0.79     14937\n",
      "weighted avg       0.81      0.80      0.80     14937\n",
      "\n"
     ]
    }
   ],
   "source": [
    "print(classification_report(y_test, y_pred_test))"
   ]
  },
  {
   "cell_type": "code",
   "execution_count": 87,
   "id": "2f545720",
   "metadata": {},
   "outputs": [
    {
     "name": "stdout",
     "output_type": "stream",
     "text": [
      " Accuracy of the training data is 80.18%\n"
     ]
    }
   ],
   "source": [
    "# Accuracy Score of the Training data\n",
    "test_accuracy = accuracy_score(y_test, y_pred_test)\n",
    "print(f\" Accuracy of the training data is {round(test_accuracy*100,2)}%\")"
   ]
  },
  {
   "cell_type": "code",
   "execution_count": 94,
   "id": "4fc2fd9d",
   "metadata": {},
   "outputs": [],
   "source": [
    "training_accuracy = round(training_accuracy*100,2)\n",
    "test_accuracy = round(test_accuracy*100,2)"
   ]
  },
  {
   "cell_type": "code",
   "execution_count": 95,
   "id": "c4476c46",
   "metadata": {},
   "outputs": [],
   "source": [
    "Model = [ \"Training Accuracy\", \"Test Accuracy\"]\n",
    "Accuracy_scores =  [training_accuracy, test_accuracy]"
   ]
  },
  {
   "cell_type": "code",
   "execution_count": 96,
   "id": "fb941e22",
   "metadata": {},
   "outputs": [
    {
     "data": {
      "text/html": [
       "<div>\n",
       "<style scoped>\n",
       "    .dataframe tbody tr th:only-of-type {\n",
       "        vertical-align: middle;\n",
       "    }\n",
       "\n",
       "    .dataframe tbody tr th {\n",
       "        vertical-align: top;\n",
       "    }\n",
       "\n",
       "    .dataframe thead th {\n",
       "        text-align: right;\n",
       "    }\n",
       "</style>\n",
       "<table border=\"1\" class=\"dataframe\">\n",
       "  <thead>\n",
       "    <tr style=\"text-align: right;\">\n",
       "      <th></th>\n",
       "      <th>Model</th>\n",
       "      <th>Scores</th>\n",
       "    </tr>\n",
       "  </thead>\n",
       "  <tbody>\n",
       "    <tr>\n",
       "      <th>0</th>\n",
       "      <td>Training Accuracy</td>\n",
       "      <td>82.31</td>\n",
       "    </tr>\n",
       "    <tr>\n",
       "      <th>1</th>\n",
       "      <td>Test Accuracy</td>\n",
       "      <td>80.18</td>\n",
       "    </tr>\n",
       "  </tbody>\n",
       "</table>\n",
       "</div>"
      ],
      "text/plain": [
       "               Model  Scores\n",
       "0  Training Accuracy   82.31\n",
       "1      Test Accuracy   80.18"
      ]
     },
     "execution_count": 96,
     "metadata": {},
     "output_type": "execute_result"
    }
   ],
   "source": [
    "Model_Accuracies = pd.DataFrame({\n",
    "                                  \"Model\" : Model,\n",
    "                                  \"Scores\" : Accuracy_scores\n",
    "                               })\n",
    "\n",
    "Model_Accuracies"
   ]
  },
  {
   "cell_type": "markdown",
   "id": "427ea0ba",
   "metadata": {},
   "source": [
    "### From above model has trained well as there is less difference in the accuracies given by train data and test data"
   ]
  },
  {
   "cell_type": "code",
   "execution_count": null,
   "id": "163b02c4",
   "metadata": {},
   "outputs": [],
   "source": []
  }
 ],
 "metadata": {
  "kernelspec": {
   "display_name": "Python 3 (ipykernel)",
   "language": "python",
   "name": "python3"
  },
  "language_info": {
   "codemirror_mode": {
    "name": "ipython",
    "version": 3
   },
   "file_extension": ".py",
   "mimetype": "text/x-python",
   "name": "python",
   "nbconvert_exporter": "python",
   "pygments_lexer": "ipython3",
   "version": "3.11.4"
  }
 },
 "nbformat": 4,
 "nbformat_minor": 5
}
